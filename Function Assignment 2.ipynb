{
 "cells": [
  {
   "cell_type": "markdown",
   "id": "56456a8c-559e-4025-8a9c-d32ff5bc24e8",
   "metadata": {},
   "source": [
    "##### Q1. Which keyword is used to create a function? Create a function to return a list of odd numbers in the\n",
    "range of 1 to 25."
   ]
  },
  {
   "cell_type": "markdown",
   "id": "e774f606-25fb-4de2-952b-1adc192067ea",
   "metadata": {},
   "source": [
    "##### Sol. The keyword used to create a function in python is 'def'. Example of a function that returns a list of odd numbers in the range of 1 to 25 is given below:"
   ]
  },
  {
   "cell_type": "code",
   "execution_count": 2,
   "id": "a5b0943d-f03f-43da-9fc6-4fa281157347",
   "metadata": {},
   "outputs": [
    {
     "name": "stdout",
     "output_type": "stream",
     "text": [
      "[1, 3, 5, 7, 9, 11, 13, 15, 17, 19, 21, 23, 25]\n"
     ]
    }
   ],
   "source": [
    "def get_odd_numbers():\n",
    "    odd_numbers=[]\n",
    "    for i in range(1,26):\n",
    "        if i%2!=0:\n",
    "            odd_numbers.append(i)\n",
    "    return odd_numbers\n",
    "result=get_odd_numbers()\n",
    "print(result)"
   ]
  },
  {
   "cell_type": "markdown",
   "id": "9836b680-0980-4b84-a5be-85430f559088",
   "metadata": {},
   "source": [
    "##### Q2. Why *args and **kwargs is used in some functions? Create a function each for *args and **kwargs\n",
    "to demonstrate their use."
   ]
  },
  {
   "cell_type": "markdown",
   "id": "4fa337aa-7271-4ec1-98ad-cf22d567f207",
   "metadata": {},
   "source": [
    "##### Sol. The *args and **kwargs are used in python function to accept variable number of arguments. The explanation of their usage and example of function that demonstrate their use are given below:\n",
    "1. *args: \n",
    "* The *args parameter allows a function to accept a variable number of non-keyword argument.\n",
    "* The *args syntex collects any number of positional arguments into a tuple.\n",
    "* it is useful when the number of arguments to be passed to a function is known in advance.\n",
    "##### Here's an example of a function that accepts *args and print the value passed as arguments:"
   ]
  },
  {
   "cell_type": "code",
   "execution_count": 3,
   "id": "589eca77-7750-46b6-959d-bdf7fe56019f",
   "metadata": {},
   "outputs": [
    {
     "name": "stdout",
     "output_type": "stream",
     "text": [
      "hashim khan 1 2 3 4 5\n"
     ]
    }
   ],
   "source": [
    "def test(*args):\n",
    "    for i in args:\n",
    "        print(i)\n",
    "print('hashim','khan',1,2,3,4,5)"
   ]
  },
  {
   "cell_type": "markdown",
   "id": "bbea77cc-fb99-4736-9c7b-0d77af3fa93e",
   "metadata": {},
   "source": [
    "##### 2. **kwargs:\n",
    "* The **kwargs parameter allows a function to accept a variable number of keyword arguments.\n",
    "* The **kwargs syntex collects any number of keyword arguments into a dictionary.\n",
    "* It is useful when the functipon needs to accept arguments with specific names or when there are additional optional arguments.\n",
    "* Within the function, **kwargs can be treated as a dictionary, and its key-value pairs can be accessed accordingly.\n",
    "##### Here's an example of function that accepts **kwargs and prints the key-value pairs."
   ]
  },
  {
   "cell_type": "code",
   "execution_count": 4,
   "id": "77b7bf5b-5c0a-4612-bf15-a13aceafdc16",
   "metadata": {},
   "outputs": [
    {
     "name": "stdout",
     "output_type": "stream",
     "text": [
      "name hashim\n",
      "age 28\n",
      "city srinagar\n",
      "country india\n"
     ]
    }
   ],
   "source": [
    "def print_keywords(**kwargs):\n",
    "    for key,value in kwargs.items():\n",
    "        print(key,value)\n",
    "print_keywords(name='hashim',age=28,city='srinagar',country='india')"
   ]
  },
  {
   "cell_type": "markdown",
   "id": "aa3270fb-fc0f-4d6e-b6d3-b32077e5d4b6",
   "metadata": {},
   "source": [
    "##### Q3. What is an iterator in python? Name the method used to initialise the iterator object and the method\n",
    "used for iteration. Use these methods to print the first five elements of the given list [2, 4, 6, 8, 10, 12, 14, 16, 18, 20]."
   ]
  },
  {
   "cell_type": "markdown",
   "id": "5228b1ad-0123-4d8d-b06b-c62a691740d6",
   "metadata": {},
   "source": [
    "##### Sol. In Python, an iterator is an object that allows iteration over a collection of elements, such as a list, tuple, or custom-defined object. It provides a way to access elements one by one, without the need to load the entire collection into memory at once.\n",
    "##### To initialize an iterator object in python, we use the 'iter()' method. The 'iter' method takes a collection as an argument and returns an iterator object.\n",
    "##### To iterate over the elements of an iterator object, we use the 'next()' method. The 'next()' method retrieves the next element in the iterator sequence. Calling 'next()' repeatedly allows us to access each element of the iterator until all elements have been exhausted.\n",
    "##### Here's an example that demonstrates initializing an iterator object and iterating over the first five elements of the given list[2,4,6,8,10,12,14,16,18,20]"
   ]
  },
  {
   "cell_type": "code",
   "execution_count": 5,
   "id": "805c1e09-8593-4811-918f-0f001524b956",
   "metadata": {},
   "outputs": [
    {
     "name": "stdout",
     "output_type": "stream",
     "text": [
      "2\n",
      "4\n",
      "6\n",
      "8\n",
      "10\n"
     ]
    }
   ],
   "source": [
    "l=[2, 4, 6, 8, 10, 12, 14, 16, 18, 20]\n",
    "my_iter=iter(l)\n",
    "for i in range(5):\n",
    "    element=next(my_iter)\n",
    "    print(element)"
   ]
  },
  {
   "cell_type": "markdown",
   "id": "d23a0efe-4e6d-4953-b771-231bd91157c8",
   "metadata": {},
   "source": [
    "##### Q4. What is a generator function in python? Why yield keyword is used? Give an example of a generator\n",
    "function."
   ]
  },
  {
   "cell_type": "markdown",
   "id": "2848a34f-d01d-4dd7-bea2-b4187c67bd41",
   "metadata": {},
   "source": [
    "##### Sol. In Python, a generator function is a special type of function that returns an iterator(generator) when called. It uses the 'yield' keyword instead of the 'return' keyword to pause the execution and generate a sequence of values on the fly.\n",
    "##### Here's an example of a generator function that generates a sequence of even numbers upto a given limit:"
   ]
  },
  {
   "cell_type": "code",
   "execution_count": 3,
   "id": "f8faa9a2-0693-44f3-9c37-a107569cf1eb",
   "metadata": {},
   "outputs": [
    {
     "name": "stdout",
     "output_type": "stream",
     "text": [
      "0\n",
      "2\n",
      "4\n",
      "6\n",
      "8\n",
      "10\n"
     ]
    }
   ],
   "source": [
    "def even_numbers(limit):\n",
    "    n=0\n",
    "    while n<=limit:\n",
    "        yield n\n",
    "        n+=2\n",
    "even_gen=even_numbers(10)\n",
    "for i in even_gen:\n",
    "    print(i)"
   ]
  },
  {
   "cell_type": "markdown",
   "id": "d183b363-577a-462a-bd26-816b05726859",
   "metadata": {},
   "source": [
    "##### Q5. Create a generator function for prime numbers less than 1000. Use the next() method to print the first 20 prime numbers."
   ]
  },
  {
   "cell_type": "markdown",
   "id": "c8a53708-16c1-4775-b642-48bc6f2a9e8c",
   "metadata": {},
   "source": [
    "##### Sol. A generatot function that generates prime numbers less than 1000 and an example of using the 'next()' method to print the first 20 prime numbers are given below:"
   ]
  },
  {
   "cell_type": "code",
   "execution_count": 1,
   "id": "e837f77e-1390-47ea-9f16-6273de92314e",
   "metadata": {},
   "outputs": [
    {
     "name": "stdout",
     "output_type": "stream",
     "text": [
      "2\n",
      "3\n",
      "5\n",
      "7\n",
      "11\n",
      "13\n",
      "17\n",
      "19\n",
      "23\n",
      "29\n",
      "31\n",
      "37\n",
      "41\n",
      "43\n",
      "47\n",
      "53\n",
      "59\n",
      "61\n",
      "67\n",
      "71\n"
     ]
    }
   ],
   "source": [
    "def generate_primes():\n",
    "    primes=[]\n",
    "    num=2\n",
    "    while True:\n",
    "        is_i=True\n",
    "        for i in primes:\n",
    "            if num%i==0:\n",
    "                is_i=False\n",
    "                break\n",
    "        if is_i:\n",
    "            primes.append(num)\n",
    "            yield num\n",
    "        num+=1\n",
    "i_gen=generate_primes()\n",
    "for i in range(20):\n",
    "    i=next(i_gen)\n",
    "    print(i)"
   ]
  },
  {
   "cell_type": "markdown",
   "id": "f43e2438-a43e-425e-b2f5-050bb2d809b5",
   "metadata": {},
   "source": [
    "##### Q6. Write a python program to print the first 10 Fibonacci numbers using a while loop."
   ]
  },
  {
   "cell_type": "markdown",
   "id": "ae9ce4c6-1266-482a-8afd-b53b6df80f02",
   "metadata": {},
   "source": [
    "##### Sol. Python program that uses a while loop to print the first 10 fibonacci number is given below:"
   ]
  },
  {
   "cell_type": "code",
   "execution_count": 2,
   "id": "761389bf-9290-486e-b957-7827ac47c947",
   "metadata": {},
   "outputs": [
    {
     "name": "stdout",
     "output_type": "stream",
     "text": [
      "0\n",
      "1\n",
      "1\n",
      "2\n",
      "3\n",
      "5\n",
      "8\n",
      "13\n",
      "21\n",
      "34\n"
     ]
    }
   ],
   "source": [
    "def print_fib():\n",
    "    count=0\n",
    "    n1=0\n",
    "    n2=1\n",
    "    while count<10:\n",
    "        print(n1)\n",
    "        temp=n1+n2\n",
    "        n1=n2\n",
    "        n2=temp\n",
    "        count+=1\n",
    "print_fib()"
   ]
  },
  {
   "cell_type": "markdown",
   "id": "06ec4bb0-a739-4473-88df-0ca64aafd6c1",
   "metadata": {},
   "source": [
    "##### Q7. Write a List Comprehension to iterate through the given string: ‘pwskills’.\n",
    "Expected output: ['p', 'w', 's', 'k', 'i', 'l', 'l', 's']"
   ]
  },
  {
   "cell_type": "markdown",
   "id": "77b58f23-ce7b-4270-b0ef-5675529acd82",
   "metadata": {},
   "source": [
    "##### Sol. A list comprehension to iterate through the given string:'pwskills' and returns a list of its individual characters is given below:"
   ]
  },
  {
   "cell_type": "code",
   "execution_count": 3,
   "id": "aa558962-6924-4730-8a6d-491b532bb904",
   "metadata": {},
   "outputs": [
    {
     "name": "stdout",
     "output_type": "stream",
     "text": [
      "['p', 'w', 's', 'k', 'i', 'l', 'l', 's']\n"
     ]
    }
   ],
   "source": [
    "string='pwskills'\n",
    "result=[char for char in string]\n",
    "print(result)"
   ]
  },
  {
   "cell_type": "markdown",
   "id": "74e53a26-c350-4d38-850c-07af7c1be9c6",
   "metadata": {},
   "source": [
    "##### Q8. Write a python program to check whether a given number is Palindrome or not using a while loop."
   ]
  },
  {
   "cell_type": "markdown",
   "id": "b5929f91-82c3-45d3-b823-6249e331d5d2",
   "metadata": {},
   "source": [
    "##### Sol. A Python program that checks whether a given number is palindrome or not using a while loop is given below:\n",
    "##### A palindrome is a word, phase, number, or sequence of characters that reads the same backward as it does forward. In other words, it is a sequence of characters that remains unchanged when its order is reversed.\n",
    "##### Some common examples of palindrome are:\n",
    "* 'level'\n",
    "* 'radar'\n",
    "* 'madam'\n",
    "* 'deed'\n",
    "* '1111'\n",
    "* '333'"
   ]
  },
  {
   "cell_type": "code",
   "execution_count": 4,
   "id": "f38f56d3-cf5c-48ef-8781-8515cbb4ec57",
   "metadata": {},
   "outputs": [
    {
     "name": "stdin",
     "output_type": "stream",
     "text": [
      "enter a number: 333\n"
     ]
    },
    {
     "name": "stdout",
     "output_type": "stream",
     "text": [
      "333 is a palindrome\n"
     ]
    }
   ],
   "source": [
    "def is_palindrome(number):\n",
    "    original_number=number\n",
    "    reverse_number=0\n",
    "    while number>0:\n",
    "        digit=number%10\n",
    "        reverse_number=(reverse_number*10)+digit\n",
    "        number//=10\n",
    "    if original_number==reverse_number:\n",
    "        return True\n",
    "    else:\n",
    "        return False\n",
    "num=int(input('enter a number:'))\n",
    "if is_palindrome(num):\n",
    "    print(f'{num} is a palindrome')\n",
    "else:\n",
    "    print(f'{num} is not a palindrome')"
   ]
  },
  {
   "cell_type": "code",
   "execution_count": 15,
   "id": "6dfc4976-d32b-4519-9e42-7a59434abe8f",
   "metadata": {},
   "outputs": [
    {
     "name": "stdin",
     "output_type": "stream",
     "text": [
      "enter a number: 1232\n"
     ]
    },
    {
     "name": "stdout",
     "output_type": "stream",
     "text": [
      "1232 is not a palindrome\n"
     ]
    }
   ],
   "source": [
    "def is_palindrome(number):\n",
    "    original_number=number\n",
    "    reverse_number=0\n",
    "    while number>0:\n",
    "        digit=number%10\n",
    "        reverse_number=(reverse_number*10)+digit\n",
    "        number//=10\n",
    "    if original_number==reverse_number:\n",
    "        return True\n",
    "    else:\n",
    "        return False\n",
    "num=int(input('enter a number:'))\n",
    "if is_palindrome(num):\n",
    "    print(f'{num} is a palindrome')\n",
    "else:\n",
    "    print(f'{num} is not a palindrome')"
   ]
  },
  {
   "cell_type": "markdown",
   "id": "b91955c8-db5c-429f-99fb-2323f4ca40f8",
   "metadata": {},
   "source": [
    "##### Q9. Write a code to print odd numbers from 1 to 100 using list comprehension.\n",
    "Note: Use a list comprehension to create a list from 1 to 100 and use another List comprehension to filter\n",
    "out odd numbers."
   ]
  },
  {
   "cell_type": "markdown",
   "id": "6865cac5-b2ab-488c-8465-4f1ae88e119d",
   "metadata": {},
   "source": [
    "##### Sol. A code that uses list comprehension to create a list from 1 to 100 and then filters out the odd numbers is given blow:"
   ]
  },
  {
   "cell_type": "code",
   "execution_count": 17,
   "id": "d2bc54d0-d4f8-4b45-a18c-45686369f707",
   "metadata": {},
   "outputs": [
    {
     "name": "stdout",
     "output_type": "stream",
     "text": [
      "[1, 3, 5, 7, 9, 11, 13, 15, 17, 19, 21, 23, 25, 27, 29, 31, 33, 35, 37, 39, 41, 43, 45, 47, 49, 51, 53, 55, 57, 59, 61, 63, 65, 67, 69, 71, 73, 75, 77, 79, 81, 83, 85, 87, 89, 91, 93, 95, 97, 99]\n"
     ]
    }
   ],
   "source": [
    "# List comprehension to create a list from 1 to 100\n",
    "numbers=[num for num in range (1,101)]\n",
    "\n",
    "# List comprehension to filter out odd numbers\n",
    "odd_numbers= [num for num in numbers if num % 2!=0]\n",
    "print(odd_numbers)"
   ]
  }
 ],
 "metadata": {
  "kernelspec": {
   "display_name": "Python 3 (ipykernel)",
   "language": "python",
   "name": "python3"
  },
  "language_info": {
   "codemirror_mode": {
    "name": "ipython",
    "version": 3
   },
   "file_extension": ".py",
   "mimetype": "text/x-python",
   "name": "python",
   "nbconvert_exporter": "python",
   "pygments_lexer": "ipython3",
   "version": "3.10.8"
  }
 },
 "nbformat": 4,
 "nbformat_minor": 5
}
